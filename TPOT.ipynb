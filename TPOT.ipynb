{
  "nbformat": 4,
  "nbformat_minor": 0,
  "metadata": {
    "colab": {
      "provenance": [],
      "authorship_tag": "ABX9TyMDIhUswdl7FXRi+FT+XSTl",
      "include_colab_link": true
    },
    "kernelspec": {
      "name": "python3",
      "display_name": "Python 3"
    },
    "language_info": {
      "name": "python"
    }
  },
  "cells": [
    {
      "cell_type": "markdown",
      "metadata": {
        "id": "view-in-github",
        "colab_type": "text"
      },
      "source": [
        "<a href=\"https://colab.research.google.com/github/Sirfowahid/AutoMLLite/blob/main/TPOT.ipynb\" target=\"_parent\"><img src=\"https://colab.research.google.com/assets/colab-badge.svg\" alt=\"Open In Colab\"/></a>"
      ]
    },
    {
      "cell_type": "code",
      "source": [
        "from google.colab import drive\n",
        "drive.mount('/content/drive')"
      ],
      "metadata": {
        "colab": {
          "base_uri": "https://localhost:8080/"
        },
        "id": "uVNBSZN2SVNq",
        "outputId": "22e30268-ce4e-4085-aa3e-1fb8246e04e3"
      },
      "execution_count": 1,
      "outputs": [
        {
          "output_type": "stream",
          "name": "stdout",
          "text": [
            "Mounted at /content/drive\n"
          ]
        }
      ]
    },
    {
      "cell_type": "code",
      "execution_count": 2,
      "metadata": {
        "id": "2PjsvuJqSGpP"
      },
      "outputs": [],
      "source": [
        "import numpy as np\n",
        "import pandas as pd\n"
      ]
    },
    {
      "cell_type": "code",
      "source": [
        "dataset = pd.read_csv('/content/drive/MyDrive/Projects/03. Demo /Training.csv')"
      ],
      "metadata": {
        "id": "5-KM4qpGSgld"
      },
      "execution_count": 3,
      "outputs": []
    },
    {
      "cell_type": "code",
      "source": [
        "dataset.head()"
      ],
      "metadata": {
        "colab": {
          "base_uri": "https://localhost:8080/",
          "height": 206
        },
        "id": "qYtETTReWGZZ",
        "outputId": "1940de46-bbc3-483a-cffd-a5b7191a2de2"
      },
      "execution_count": 4,
      "outputs": [
        {
          "output_type": "execute_result",
          "data": {
            "text/plain": [
              "   Training      Aspect    Rainfall  SOIL          TWI       SPI     Slope  \\\n",
              "0         1   74.744904  540.265991     2   -38.351200 -0.547888  11.40180   \n",
              "1         1  329.036011  535.432983     2    68.288696  0.173995   5.83095   \n",
              "2         1  246.800995  535.414002     2   -77.526604 -0.425340   7.61577   \n",
              "3         1   -1.000000  535.929016     2 -3858.179932 -0.012853   0.00000   \n",
              "4         1  296.565002  535.982971     2  -129.878998 -0.254116   4.47214   \n",
              "\n",
              "       NDIV  Landuse  Geological  Elevation          Dd  Curvature  \n",
              "0 -0.112100  1.00000     8.00000       2340  137.927002       1.28  \n",
              "1 -0.060369  2.00000     6.00000       2354  124.690002      -1.28  \n",
              "2 -0.091166  2.00000     7.88829       2340  130.602997       0.64  \n",
              "3 -0.129268  3.70415     8.00000       2325  134.162994       0.00  \n",
              "4 -0.136156  3.58101     8.00000       2324  135.453995       1.28  "
            ],
            "text/html": [
              "\n",
              "\n",
              "  <div id=\"df-9ee2d9d2-9e20-42fb-86a1-3cc060d027a1\">\n",
              "    <div class=\"colab-df-container\">\n",
              "      <div>\n",
              "<style scoped>\n",
              "    .dataframe tbody tr th:only-of-type {\n",
              "        vertical-align: middle;\n",
              "    }\n",
              "\n",
              "    .dataframe tbody tr th {\n",
              "        vertical-align: top;\n",
              "    }\n",
              "\n",
              "    .dataframe thead th {\n",
              "        text-align: right;\n",
              "    }\n",
              "</style>\n",
              "<table border=\"1\" class=\"dataframe\">\n",
              "  <thead>\n",
              "    <tr style=\"text-align: right;\">\n",
              "      <th></th>\n",
              "      <th>Training</th>\n",
              "      <th>Aspect</th>\n",
              "      <th>Rainfall</th>\n",
              "      <th>SOIL</th>\n",
              "      <th>TWI</th>\n",
              "      <th>SPI</th>\n",
              "      <th>Slope</th>\n",
              "      <th>NDIV</th>\n",
              "      <th>Landuse</th>\n",
              "      <th>Geological</th>\n",
              "      <th>Elevation</th>\n",
              "      <th>Dd</th>\n",
              "      <th>Curvature</th>\n",
              "    </tr>\n",
              "  </thead>\n",
              "  <tbody>\n",
              "    <tr>\n",
              "      <th>0</th>\n",
              "      <td>1</td>\n",
              "      <td>74.744904</td>\n",
              "      <td>540.265991</td>\n",
              "      <td>2</td>\n",
              "      <td>-38.351200</td>\n",
              "      <td>-0.547888</td>\n",
              "      <td>11.40180</td>\n",
              "      <td>-0.112100</td>\n",
              "      <td>1.00000</td>\n",
              "      <td>8.00000</td>\n",
              "      <td>2340</td>\n",
              "      <td>137.927002</td>\n",
              "      <td>1.28</td>\n",
              "    </tr>\n",
              "    <tr>\n",
              "      <th>1</th>\n",
              "      <td>1</td>\n",
              "      <td>329.036011</td>\n",
              "      <td>535.432983</td>\n",
              "      <td>2</td>\n",
              "      <td>68.288696</td>\n",
              "      <td>0.173995</td>\n",
              "      <td>5.83095</td>\n",
              "      <td>-0.060369</td>\n",
              "      <td>2.00000</td>\n",
              "      <td>6.00000</td>\n",
              "      <td>2354</td>\n",
              "      <td>124.690002</td>\n",
              "      <td>-1.28</td>\n",
              "    </tr>\n",
              "    <tr>\n",
              "      <th>2</th>\n",
              "      <td>1</td>\n",
              "      <td>246.800995</td>\n",
              "      <td>535.414002</td>\n",
              "      <td>2</td>\n",
              "      <td>-77.526604</td>\n",
              "      <td>-0.425340</td>\n",
              "      <td>7.61577</td>\n",
              "      <td>-0.091166</td>\n",
              "      <td>2.00000</td>\n",
              "      <td>7.88829</td>\n",
              "      <td>2340</td>\n",
              "      <td>130.602997</td>\n",
              "      <td>0.64</td>\n",
              "    </tr>\n",
              "    <tr>\n",
              "      <th>3</th>\n",
              "      <td>1</td>\n",
              "      <td>-1.000000</td>\n",
              "      <td>535.929016</td>\n",
              "      <td>2</td>\n",
              "      <td>-3858.179932</td>\n",
              "      <td>-0.012853</td>\n",
              "      <td>0.00000</td>\n",
              "      <td>-0.129268</td>\n",
              "      <td>3.70415</td>\n",
              "      <td>8.00000</td>\n",
              "      <td>2325</td>\n",
              "      <td>134.162994</td>\n",
              "      <td>0.00</td>\n",
              "    </tr>\n",
              "    <tr>\n",
              "      <th>4</th>\n",
              "      <td>1</td>\n",
              "      <td>296.565002</td>\n",
              "      <td>535.982971</td>\n",
              "      <td>2</td>\n",
              "      <td>-129.878998</td>\n",
              "      <td>-0.254116</td>\n",
              "      <td>4.47214</td>\n",
              "      <td>-0.136156</td>\n",
              "      <td>3.58101</td>\n",
              "      <td>8.00000</td>\n",
              "      <td>2324</td>\n",
              "      <td>135.453995</td>\n",
              "      <td>1.28</td>\n",
              "    </tr>\n",
              "  </tbody>\n",
              "</table>\n",
              "</div>\n",
              "      <button class=\"colab-df-convert\" onclick=\"convertToInteractive('df-9ee2d9d2-9e20-42fb-86a1-3cc060d027a1')\"\n",
              "              title=\"Convert this dataframe to an interactive table.\"\n",
              "              style=\"display:none;\">\n",
              "\n",
              "  <svg xmlns=\"http://www.w3.org/2000/svg\" height=\"24px\"viewBox=\"0 0 24 24\"\n",
              "       width=\"24px\">\n",
              "    <path d=\"M0 0h24v24H0V0z\" fill=\"none\"/>\n",
              "    <path d=\"M18.56 5.44l.94 2.06.94-2.06 2.06-.94-2.06-.94-.94-2.06-.94 2.06-2.06.94zm-11 1L8.5 8.5l.94-2.06 2.06-.94-2.06-.94L8.5 2.5l-.94 2.06-2.06.94zm10 10l.94 2.06.94-2.06 2.06-.94-2.06-.94-.94-2.06-.94 2.06-2.06.94z\"/><path d=\"M17.41 7.96l-1.37-1.37c-.4-.4-.92-.59-1.43-.59-.52 0-1.04.2-1.43.59L10.3 9.45l-7.72 7.72c-.78.78-.78 2.05 0 2.83L4 21.41c.39.39.9.59 1.41.59.51 0 1.02-.2 1.41-.59l7.78-7.78 2.81-2.81c.8-.78.8-2.07 0-2.86zM5.41 20L4 18.59l7.72-7.72 1.47 1.35L5.41 20z\"/>\n",
              "  </svg>\n",
              "      </button>\n",
              "\n",
              "\n",
              "\n",
              "    <div id=\"df-d9f6ef32-871f-4123-a794-940463dc9fa5\">\n",
              "      <button class=\"colab-df-quickchart\" onclick=\"quickchart('df-d9f6ef32-871f-4123-a794-940463dc9fa5')\"\n",
              "              title=\"Suggest charts.\"\n",
              "              style=\"display:none;\">\n",
              "\n",
              "<svg xmlns=\"http://www.w3.org/2000/svg\" height=\"24px\"viewBox=\"0 0 24 24\"\n",
              "     width=\"24px\">\n",
              "    <g>\n",
              "        <path d=\"M19 3H5c-1.1 0-2 .9-2 2v14c0 1.1.9 2 2 2h14c1.1 0 2-.9 2-2V5c0-1.1-.9-2-2-2zM9 17H7v-7h2v7zm4 0h-2V7h2v10zm4 0h-2v-4h2v4z\"/>\n",
              "    </g>\n",
              "</svg>\n",
              "      </button>\n",
              "    </div>\n",
              "\n",
              "<style>\n",
              "  .colab-df-quickchart {\n",
              "    background-color: #E8F0FE;\n",
              "    border: none;\n",
              "    border-radius: 50%;\n",
              "    cursor: pointer;\n",
              "    display: none;\n",
              "    fill: #1967D2;\n",
              "    height: 32px;\n",
              "    padding: 0 0 0 0;\n",
              "    width: 32px;\n",
              "  }\n",
              "\n",
              "  .colab-df-quickchart:hover {\n",
              "    background-color: #E2EBFA;\n",
              "    box-shadow: 0px 1px 2px rgba(60, 64, 67, 0.3), 0px 1px 3px 1px rgba(60, 64, 67, 0.15);\n",
              "    fill: #174EA6;\n",
              "  }\n",
              "\n",
              "  [theme=dark] .colab-df-quickchart {\n",
              "    background-color: #3B4455;\n",
              "    fill: #D2E3FC;\n",
              "  }\n",
              "\n",
              "  [theme=dark] .colab-df-quickchart:hover {\n",
              "    background-color: #434B5C;\n",
              "    box-shadow: 0px 1px 3px 1px rgba(0, 0, 0, 0.15);\n",
              "    filter: drop-shadow(0px 1px 2px rgba(0, 0, 0, 0.3));\n",
              "    fill: #FFFFFF;\n",
              "  }\n",
              "</style>\n",
              "\n",
              "    <script>\n",
              "      async function quickchart(key) {\n",
              "        const containerElement = document.querySelector('#' + key);\n",
              "        const charts = await google.colab.kernel.invokeFunction(\n",
              "            'suggestCharts', [key], {});\n",
              "      }\n",
              "    </script>\n",
              "\n",
              "      <script>\n",
              "\n",
              "function displayQuickchartButton(domScope) {\n",
              "  let quickchartButtonEl =\n",
              "    domScope.querySelector('#df-d9f6ef32-871f-4123-a794-940463dc9fa5 button.colab-df-quickchart');\n",
              "  quickchartButtonEl.style.display =\n",
              "    google.colab.kernel.accessAllowed ? 'block' : 'none';\n",
              "}\n",
              "\n",
              "        displayQuickchartButton(document);\n",
              "      </script>\n",
              "      <style>\n",
              "    .colab-df-container {\n",
              "      display:flex;\n",
              "      flex-wrap:wrap;\n",
              "      gap: 12px;\n",
              "    }\n",
              "\n",
              "    .colab-df-convert {\n",
              "      background-color: #E8F0FE;\n",
              "      border: none;\n",
              "      border-radius: 50%;\n",
              "      cursor: pointer;\n",
              "      display: none;\n",
              "      fill: #1967D2;\n",
              "      height: 32px;\n",
              "      padding: 0 0 0 0;\n",
              "      width: 32px;\n",
              "    }\n",
              "\n",
              "    .colab-df-convert:hover {\n",
              "      background-color: #E2EBFA;\n",
              "      box-shadow: 0px 1px 2px rgba(60, 64, 67, 0.3), 0px 1px 3px 1px rgba(60, 64, 67, 0.15);\n",
              "      fill: #174EA6;\n",
              "    }\n",
              "\n",
              "    [theme=dark] .colab-df-convert {\n",
              "      background-color: #3B4455;\n",
              "      fill: #D2E3FC;\n",
              "    }\n",
              "\n",
              "    [theme=dark] .colab-df-convert:hover {\n",
              "      background-color: #434B5C;\n",
              "      box-shadow: 0px 1px 3px 1px rgba(0, 0, 0, 0.15);\n",
              "      filter: drop-shadow(0px 1px 2px rgba(0, 0, 0, 0.3));\n",
              "      fill: #FFFFFF;\n",
              "    }\n",
              "  </style>\n",
              "\n",
              "      <script>\n",
              "        const buttonEl =\n",
              "          document.querySelector('#df-9ee2d9d2-9e20-42fb-86a1-3cc060d027a1 button.colab-df-convert');\n",
              "        buttonEl.style.display =\n",
              "          google.colab.kernel.accessAllowed ? 'block' : 'none';\n",
              "\n",
              "        async function convertToInteractive(key) {\n",
              "          const element = document.querySelector('#df-9ee2d9d2-9e20-42fb-86a1-3cc060d027a1');\n",
              "          const dataTable =\n",
              "            await google.colab.kernel.invokeFunction('convertToInteractive',\n",
              "                                                     [key], {});\n",
              "          if (!dataTable) return;\n",
              "\n",
              "          const docLinkHtml = 'Like what you see? Visit the ' +\n",
              "            '<a target=\"_blank\" href=https://colab.research.google.com/notebooks/data_table.ipynb>data table notebook</a>'\n",
              "            + ' to learn more about interactive tables.';\n",
              "          element.innerHTML = '';\n",
              "          dataTable['output_type'] = 'display_data';\n",
              "          await google.colab.output.renderOutput(dataTable, element);\n",
              "          const docLink = document.createElement('div');\n",
              "          docLink.innerHTML = docLinkHtml;\n",
              "          element.appendChild(docLink);\n",
              "        }\n",
              "      </script>\n",
              "    </div>\n",
              "  </div>\n"
            ]
          },
          "metadata": {},
          "execution_count": 4
        }
      ]
    },
    {
      "cell_type": "code",
      "source": [
        "numeric_columns = []\n",
        "object_columns = []"
      ],
      "metadata": {
        "id": "gaxoGvf6tsEC"
      },
      "execution_count": 8,
      "outputs": []
    },
    {
      "cell_type": "code",
      "source": [
        "for i in dataset.columns:\n",
        "  if(dataset[i].dtype=='object'):\n",
        "    object_columns.append(i)\n",
        "  else:\n",
        "    numeric_columns.append(i)"
      ],
      "metadata": {
        "id": "-PqYeXlrStEo"
      },
      "execution_count": 9,
      "outputs": []
    },
    {
      "cell_type": "code",
      "source": [
        "numeric_columns"
      ],
      "metadata": {
        "id": "kXhY_QMWVyWE",
        "colab": {
          "base_uri": "https://localhost:8080/"
        },
        "outputId": "4a8a4b3d-b267-46d7-c53b-ffe8635cbf70"
      },
      "execution_count": 10,
      "outputs": [
        {
          "output_type": "execute_result",
          "data": {
            "text/plain": [
              "['Training',\n",
              " 'Aspect',\n",
              " 'Rainfall',\n",
              " 'SOIL',\n",
              " 'TWI',\n",
              " 'SPI',\n",
              " 'Slope',\n",
              " 'NDIV',\n",
              " 'Landuse',\n",
              " 'Geological',\n",
              " 'Elevation',\n",
              " 'Dd',\n",
              " 'Curvature']"
            ]
          },
          "metadata": {},
          "execution_count": 10
        }
      ]
    },
    {
      "cell_type": "code",
      "source": [
        "object_columns"
      ],
      "metadata": {
        "id": "B1R2KcjgV2KV",
        "colab": {
          "base_uri": "https://localhost:8080/"
        },
        "outputId": "65ac17ab-db10-4d08-9866-3aa77f56a60a"
      },
      "execution_count": 11,
      "outputs": [
        {
          "output_type": "execute_result",
          "data": {
            "text/plain": [
              "[]"
            ]
          },
          "metadata": {},
          "execution_count": 11
        }
      ]
    },
    {
      "cell_type": "code",
      "source": [],
      "metadata": {
        "id": "_bjufbWTuHVg"
      },
      "execution_count": null,
      "outputs": []
    }
  ]
}